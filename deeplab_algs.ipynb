{
 "cells": [
  {
   "cell_type": "code",
   "execution_count": 3,
   "metadata": {},
   "outputs": [
    {
     "name": "stdout",
     "output_type": "stream",
     "text": [
      "factor=2\n",
      "origin maxsize:15, factor:2\n",
      "output maxsize:13\n",
      "origin maxsize:16, factor:2\n",
      "output maxsize:15\n",
      "origin maxsize:17, factor:2\n",
      "output maxsize:15\n",
      "origin maxsize:18, factor:2\n",
      "output maxsize:17\n",
      "factor=3\n",
      "origin maxsize:15, factor:3\n",
      "output maxsize:13\n",
      "origin maxsize:16, factor:3\n",
      "output maxsize:13\n",
      "origin maxsize:17, factor:3\n",
      "output maxsize:16\n",
      "origin maxsize:18, factor:3\n",
      "output maxsize:16\n"
     ]
    }
   ],
   "source": [
    "import tensorflow as tf\n",
    "import numpy as np\n",
    "\n",
    "def max_size_calc(max_size,factor):\n",
    "    \"\"\"修改后,返回的值是factor的整数倍在加上1,但是该值必须小于传入的max_size.\n",
    "    \"\"\"\n",
    "    origin_max_size=max_size\n",
    "    max_size = (max_size + (factor - (max_size - 1) % factor) % factor - factor)\n",
    "    print(\"origin maxsize:%d, factor:%d\" %(origin_max_size,factor))\n",
    "    print(\"output maxsize:%d\" %(max_size))\n",
    "    #return origin_max_size,max_size,factor\n",
    "\n",
    "print(\"factor=2\")\n",
    "max_size_calc(max_size=15,factor=2)\n",
    "max_size_calc(max_size=16,factor=2)\n",
    "max_size_calc(max_size=17,factor=2)\n",
    "max_size_calc(max_size=18,factor=2)\n",
    "\n",
    "\n",
    "print(\"factor=3\")\n",
    "max_size_calc(max_size=15,factor=3)\n",
    "max_size_calc(max_size=16,factor=3)\n",
    "max_size_calc(max_size=17,factor=3)\n",
    "max_size_calc(max_size=18,factor=3)\n"
   ]
  },
  {
   "cell_type": "code",
   "execution_count": 10,
   "metadata": {},
   "outputs": [
    {
     "name": "stdout",
     "output_type": "stream",
     "text": [
      "numsteps: 50\n",
      "step:1 scaler:%d [ 1.  2.  3.  4.  5.  6.  7.  8.  9. 10. 11. 12. 13. 14. 15. 16. 17. 18.\n",
      " 19. 20. 21. 22. 23. 24. 25. 26. 27. 28. 29. 30. 31. 32. 33. 34. 35. 36.\n",
      " 37. 38. 39. 40. 41. 42. 43. 44. 45. 46. 47. 48. 49. 50.]\n",
      "numsteps: 25\n",
      "step:2 scaler:%d [ 1.         3.0416667  5.0833335  7.125      9.166667  11.208334\n",
      " 13.25      15.291667  17.333334  19.375     21.416668  23.458334\n",
      " 25.5       27.541668  29.583334  31.625002  33.666668  35.708336\n",
      " 37.75      39.791668  41.833336  43.875     45.916668  47.958336\n",
      " 50.       ]\n",
      "numsteps: 17\n",
      "step:3 scaler:%d [ 1.      4.0625  7.125  10.1875 13.25   16.3125 19.375  22.4375 25.5\n",
      " 28.5625 31.625  34.6875 37.75   40.8125 43.875  46.9375 50.    ]\n",
      "numsteps: 13\n",
      "step:4 scaler:%d [ 1.         5.0833335  9.166667  13.25      17.333334  21.416668\n",
      " 25.5       29.583334  33.666668  37.75      41.833336  45.916668\n",
      " 50.       ]\n"
     ]
    }
   ],
   "source": [
    "import tensorflow as tf\n",
    "import numpy as np\n",
    "\n",
    "def scale_get(min_scale_factor,max_scale_factor,step_size):\n",
    "    num_steps = int((max_scale_factor - min_scale_factor) / step_size + 1)\n",
    "    print(\"numsteps:\",num_steps)\n",
    "    scale_factors = tf.lin_space(min_scale_factor, max_scale_factor, num_steps)\n",
    "    return scale_factors\n",
    "\n",
    "with tf.Session() as sess:\n",
    "    sess.run(tf.global_variables_initializer())\n",
    "    A=scale_get(1.0,50,1)\n",
    "    print(\"step:1 scaler:%d\",A.eval())\n",
    "    A=scale_get(1.0,50,2)\n",
    "    print(\"step:2 scaler:%d\",A.eval())\n",
    "    A=scale_get(1.0,50,3)\n",
    "    print(\"step:3 scaler:%d\",A.eval())\n",
    "    A=scale_get(1.0,50,4)\n",
    "    print(\"step:4 scaler:%d\",A.eval())\n"
   ]
  },
  {
   "cell_type": "code",
   "execution_count": null,
   "metadata": {},
   "outputs": [],
   "source": []
  }
 ],
 "metadata": {
  "kernelspec": {
   "display_name": "Python 3",
   "language": "python",
   "name": "python3"
  },
  "language_info": {
   "codemirror_mode": {
    "name": "ipython",
    "version": 3
   },
   "file_extension": ".py",
   "mimetype": "text/x-python",
   "name": "python",
   "nbconvert_exporter": "python",
   "pygments_lexer": "ipython3",
   "version": "3.6.3"
  }
 },
 "nbformat": 4,
 "nbformat_minor": 2
}
