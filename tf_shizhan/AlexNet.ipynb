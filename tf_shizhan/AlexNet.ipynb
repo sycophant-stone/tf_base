{
 "cells": [
  {
   "cell_type": "markdown",
   "metadata": {},
   "source": [
    "## AlexNet\n",
    "\n",
    "利用ImageNet训练一个AlexNet耗时很长."
   ]
  },
  {
   "cell_type": "code",
   "execution_count": 1,
   "metadata": {},
   "outputs": [],
   "source": [
    "from datetime import datetime\n",
    "import math\n",
    "import time\n",
    "import tensorflow as tf"
   ]
  },
  {
   "cell_type": "code",
   "execution_count": 2,
   "metadata": {},
   "outputs": [],
   "source": [
    "batch_size = 32\n",
    "num_batches = 100\n"
   ]
  },
  {
   "cell_type": "markdown",
   "metadata": {},
   "source": [
    "#### 1. 定义显示网络结构的函数\n"
   ]
  },
  {
   "cell_type": "code",
   "execution_count": 3,
   "metadata": {},
   "outputs": [],
   "source": [
    "def print_net_arch(t):\n",
    "    print(t.op.name, t.get_shape().as_list())"
   ]
  },
  {
   "cell_type": "markdown",
   "metadata": {},
   "source": [
    "#### 2. AlexNet\n",
    "\n",
    "##### conv1\n",
    "\n",
    "\n",
    "input: batch_size x 224 x 224 x 3\n",
    "\n",
    "kernel: 3 x 11 x 11 x 64\n",
    "\n",
    "relu: non-linearlize\n",
    "\n",
    "output: batch_size x 1/4w x 1/4h x 64\n",
    "\n",
    "##### lrn max_pool\n",
    "\n",
    "1/4w -> 1/8w\n",
    "\n",
    "lrn: 抑制临近层的干扰\n",
    "\n",
    "max_pool: 取最特征点\n",
    "\n",
    "---\n",
    "\n",
    "##### conv2\n",
    "\n",
    "input: batch_size 1/8 1/8 64\n",
    "\n",
    "kernel: 64 5 5 192\n",
    "\n",
    "output: batch_size 1/8 1/8 192\n",
    "\n",
    "##### lrn max_pool\n",
    "\n",
    "1/8 --> 1/16\n",
    "\n"
   ]
  },
  {
   "cell_type": "code",
   "execution_count": 5,
   "metadata": {},
   "outputs": [],
   "source": [
    "def inference(images):\n",
    "    '''\n",
    "    images: take image as input\n",
    "    return: pool5, parameters\n",
    "    '''\n",
    "    param = []\n",
    "    \n",
    "    with tf.name_scope('conv1') as scope:\n",
    "        kernel = tf.Variable(tf.truncated_normal([11,11,3,64], dtype=tf.float32, stddev=1e-1, name='w1' ))\n",
    "        conv = tf.nn.conv2d(images, kernel, strides=[1,4,4,1],padding='SAME')\n",
    "        biases = tf.Variable(tf.constant(0, dtype=tf.float32, shape=[64] , name='b1'))\n",
    "        sum_temp = tf.nn.bias_add(conv, biases)\n",
    "        conv1 = tf.nn.relu(sum_temp,name=scope)\n",
    "        param += [kernel, biases]\n",
    "    print_net_arch(conv1)\n",
    "        \n",
    "    lrn1 = tf.nn.lrn(conv1, bias=1.0, alpha=0.001/9, beta=0.75, name='lrn1')\n",
    "    pool1 = tf.nn.max_pool(lrn1, ksize=[1,3,3,1],strides=[1,2,2,1],padding='SAME',name='pool1')\n",
    "    print_net_arch(pool1)\n",
    "        \n",
    "    \n",
    "    with tf.name_scope('conv2') as scope:\n",
    "        kernel = tf.Variable(tr.truncated_normal([5,5,64,198], dtype=tf.float32, stddev=1e-1, name='w2'))\n",
    "        conv = tf.nn.conv2d(pool1, kernel, strides=[1,1,1,1],padding='SAME')\n",
    "        biases = tf.Variable(tf.constant(0,dtype=tf.float32, shape=[198], name='b2'))\n",
    "        conv_temp = tf.nn.bias_add(conv,biases)\n",
    "        conv2 = tf.nn.relu(conv_temp, name='conv2')\n",
    "        param += [kernel, biases]\n",
    "    print_net_arch(conv2)\n",
    "    \n",
    "    lrn2 = tf.nn.lrn(conv2d, bias=1.0, alpha=0.001/9, beta=0.75,name='lrn2')\n",
    "    pool2 = tf.nn.max_pool(lrn2, ksize=[1,3,3,1],strides=[1,2,2,1],padding='SAME',name='pool2')\n",
    "    print_net_arch(pool2)\n",
    "    "
   ]
  },
  {
   "cell_type": "code",
   "execution_count": null,
   "metadata": {},
   "outputs": [],
   "source": []
  }
 ],
 "metadata": {
  "kernelspec": {
   "display_name": "Python 3",
   "language": "python",
   "name": "python3"
  },
  "language_info": {
   "codemirror_mode": {
    "name": "ipython",
    "version": 3
   },
   "file_extension": ".py",
   "mimetype": "text/x-python",
   "name": "python",
   "nbconvert_exporter": "python",
   "pygments_lexer": "ipython3",
   "version": "3.6.2"
  }
 },
 "nbformat": 4,
 "nbformat_minor": 2
}
