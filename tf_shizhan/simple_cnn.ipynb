{
 "cells": [
  {
   "cell_type": "code",
   "execution_count": 1,
   "metadata": {
    "collapsed": true
   },
   "outputs": [],
   "source": [
    "from tensorflow.examples.tutorials.mnist import input_data\n",
    "import tensorflow as tf\n"
   ]
  },
  {
   "cell_type": "code",
   "execution_count": 2,
   "metadata": {},
   "outputs": [
    {
     "name": "stdout",
     "output_type": "stream",
     "text": [
      "Extracting MNIST_data/train-images-idx3-ubyte.gz\n",
      "Extracting MNIST_data/train-labels-idx1-ubyte.gz\n",
      "Extracting MNIST_data/t10k-images-idx3-ubyte.gz\n",
      "Extracting MNIST_data/t10k-labels-idx1-ubyte.gz\n"
     ]
    }
   ],
   "source": [
    "mnist = input_data.read_data_sets(\"MNIST_data/\",one_hot=True)"
   ]
  },
  {
   "cell_type": "code",
   "execution_count": 3,
   "metadata": {
    "collapsed": true
   },
   "outputs": [],
   "source": [
    "sess = tf.InteractiveSession()"
   ]
  },
  {
   "cell_type": "code",
   "execution_count": 4,
   "metadata": {
    "collapsed": true
   },
   "outputs": [],
   "source": [
    "def Weight_variables(shape):\n",
    "    initial = tf.truncated_normal(shape, stddev=0.1) #stddev是标准差, 返回充斥截断正态分布值的tensor,shape是输入\n",
    "    return tf.Variable(initial) #定义这个tensor为variable\n",
    "\n",
    "def bias_variables(shape):\n",
    "    initial = tf.constant(0.1, shape=shape)\n",
    "    return tf.Variable(initial)\n"
   ]
  },
  {
   "cell_type": "code",
   "execution_count": 5,
   "metadata": {
    "collapsed": true
   },
   "outputs": [],
   "source": [
    "def conv2d(x,W):\n",
    "    return tf.nn.conv2d(x, W, strides=[1,1,1,1], padding='SAME') #W其实是kernel.也其实是权重,名字没那么重要了.\n",
    "\n",
    "def max_pool_2x2(x):\n",
    "    #返回一个Tensor，类型不变，shape仍然是[batch, height, width, channels]这种形式\n",
    "    return tf.nn.max_pool(x, ksize=[1,2,2,1], strides=[1, 2, 2, 1], padding='SAME')"
   ]
  },
  {
   "cell_type": "code",
   "execution_count": 6,
   "metadata": {
    "collapsed": true
   },
   "outputs": [],
   "source": [
    "# input x , y_ for true labels\n",
    "x = tf.placeholder(tf.float32, [None, 784])\n",
    "y_ = tf.placeholder(tf.float32, [None,10])\n",
    "\n",
    "x_image = tf.reshape(x, [-1, 28, 28, 1]) # -1是代表样本数量不变, 1代表1个颜色通道.\n"
   ]
  },
  {
   "cell_type": "code",
   "execution_count": 7,
   "metadata": {
    "collapsed": true
   },
   "outputs": [],
   "source": [
    "\n",
    "#定义卷积\n",
    "# 第一层\n",
    "\n",
    "W_conv1 = Weight_variables([5,5,1,32]) # 5x5 的kernel, 1个颜色通道(gray),其实输入也就是1层, 32个卷积核,对应的会提取32个特征\n",
    "b_conv1 = bias_variables([32]) # 对应32个特征\n",
    "h_conv1 = tf.nn.relu(conv2d(x_image, W_conv1) + b_conv1) # wx+b ,  relu ,  \n",
    "h_pool1 = max_pool_2x2(h_conv1)\n"
   ]
  },
  {
   "cell_type": "markdown",
   "metadata": {},
   "source": [
    "#### 第二层的输入\n",
    "[5,5,32,64] 的 32 是第一层的输出的特征点"
   ]
  },
  {
   "cell_type": "code",
   "execution_count": 8,
   "metadata": {
    "collapsed": true
   },
   "outputs": [],
   "source": [
    "# 定义第二层\n",
    "W_conv2 = Weight_variables([5,5,32,64]) # 32个输入特征,64个输出特征\n",
    "b_conv2 = bias_variables([64])\n",
    "h_conv2 = tf.nn.relu((conv2d(h_pool1,W_conv2) + b_conv2))\n",
    "h_pool2 = max_pool_2x2(h_conv2)"
   ]
  },
  {
   "cell_type": "markdown",
   "metadata": {},
   "source": [
    "#### 全连接层\n",
    "两次max pooling之后,deci了两次, 28x28 --> 7x7了.\n",
    "第二层输出64个单位."
   ]
  },
  {
   "cell_type": "code",
   "execution_count": 9,
   "metadata": {
    "collapsed": true
   },
   "outputs": [],
   "source": [
    "# 定义全连接层\n",
    "W_fc1 = Weight_variables([7*7*64, 1024]) #隐含节点是1024个\n",
    "b_fc1 = bias_variables([1024])\n",
    "h_pool2_flat = tf.reshape(h_pool2, [-1, 7*7*64]) #把第二层给平坦化\n",
    "h_fc1 = tf.nn.relu( tf.matmul(h_pool2_flat, W_fc1) + b_fc1)\n",
    "\n"
   ]
  },
  {
   "cell_type": "code",
   "execution_count": 10,
   "metadata": {
    "collapsed": true
   },
   "outputs": [],
   "source": [
    "keep_prob = tf.placeholder(tf.float32)\n",
    "h_fc1_drop = tf.nn.dropout(h_fc1,keep_prob)"
   ]
  },
  {
   "cell_type": "code",
   "execution_count": 11,
   "metadata": {
    "collapsed": true
   },
   "outputs": [],
   "source": [
    "#经sigmoid得到概率表达\n",
    "W_fc2 = Weight_variables([1024, 10])\n",
    "b_fc2 = bias_variables([10])\n",
    "y_conv = tf.nn.softmax(tf.matmul(h_fc1_drop, W_fc2) + b_fc2)"
   ]
  },
  {
   "cell_type": "code",
   "execution_count": 12,
   "metadata": {
    "collapsed": true
   },
   "outputs": [],
   "source": [
    "#损失函数\n",
    "cross_entropy = tf.reduce_mean(-tf.reduce_sum(y_ * tf.log(y_conv),reduction_indices=[1]))\n",
    "train_step = tf.train.AdadeltaOptimizer(1e-4).minimize(cross_entropy)\n"
   ]
  },
  {
   "cell_type": "code",
   "execution_count": 13,
   "metadata": {
    "collapsed": true
   },
   "outputs": [],
   "source": [
    "correct_prediction = tf.equal(tf.argmax(y_conv, 1), tf.argmax(y_,1))\n",
    "acc = tf.reduce_mean(tf.cast(correct_prediction, tf.float32))\n"
   ]
  },
  {
   "cell_type": "code",
   "execution_count": 14,
   "metadata": {},
   "outputs": [
    {
     "name": "stdout",
     "output_type": "stream",
     "text": [
      "step, train acc 0 0.1\n",
      "step, train acc 100 0.08\n",
      "step, train acc 200 0.04\n",
      "step, train acc 300 0.1\n",
      "step, train acc 400 0.04\n",
      "step, train acc 500 0.1\n",
      "step, train acc 600 0.02\n",
      "step, train acc 700 0.08\n",
      "step, train acc 800 0.04\n",
      "step, train acc 900 0.06\n",
      "step, train acc 1000 0.08\n",
      "step, train acc 1100 0.06\n",
      "step, train acc 1200 0.0\n",
      "step, train acc 1300 0.12\n",
      "step, train acc 1400 0.04\n",
      "step, train acc 1500 0.06\n",
      "step, train acc 1600 0.12\n",
      "step, train acc 1700 0.08\n",
      "step, train acc 1800 0.04\n",
      "step, train acc 1900 0.04\n",
      "step, train acc 2000 0.06\n",
      "step, train acc 2100 0.04\n",
      "step, train acc 2200 0.02\n",
      "step, train acc 2300 0.06\n",
      "step, train acc 2400 0.08\n",
      "step, train acc 2500 0.06\n",
      "step, train acc 2600 0.1\n",
      "step, train acc 2700 0.06\n",
      "step, train acc 2800 0.1\n",
      "step, train acc 2900 0.02\n",
      "step, train acc 3000 0.02\n",
      "step, train acc 3100 0.06\n",
      "step, train acc 3200 0.08\n",
      "step, train acc 3300 0.06\n",
      "step, train acc 3400 0.0\n",
      "step, train acc 3500 0.06\n",
      "step, train acc 3600 0.1\n",
      "step, train acc 3700 0.06\n",
      "step, train acc 3800 0.04\n",
      "step, train acc 3900 0.06\n",
      "step, train acc 4000 0.04\n",
      "step, train acc 4100 0.02\n",
      "step, train acc 4200 0.04\n",
      "step, train acc 4300 0.1\n",
      "step, train acc 4400 0.02\n",
      "step, train acc 4500 0.08\n",
      "step, train acc 4600 0.08\n",
      "step, train acc 4700 0.04\n",
      "step, train acc 4800 0.02\n",
      "step, train acc 4900 0.18\n",
      "step, train acc 5000 0.06\n",
      "step, train acc 5100 0.1\n",
      "step, train acc 5200 0.04\n",
      "step, train acc 5300 0.04\n",
      "step, train acc 5400 0.1\n",
      "step, train acc 5500 0.1\n",
      "step, train acc 5600 0.08\n",
      "step, train acc 5700 0.14\n",
      "step, train acc 5800 0.04\n",
      "step, train acc 5900 0.1\n",
      "step, train acc 6000 0.04\n",
      "step, train acc 6100 0.04\n",
      "step, train acc 6200 0.12\n",
      "step, train acc 6300 0.14\n",
      "step, train acc 6400 0.06\n",
      "step, train acc 6500 0.08\n",
      "step, train acc 6600 0.08\n",
      "step, train acc 6700 0.1\n",
      "step, train acc 6800 0.18\n",
      "step, train acc 6900 0.12\n",
      "step, train acc 7000 0.14\n",
      "step, train acc 7100 0.14\n",
      "step, train acc 7200 0.1\n",
      "step, train acc 7300 0.14\n",
      "step, train acc 7400 0.1\n",
      "step, train acc 7500 0.1\n",
      "step, train acc 7600 0.04\n",
      "step, train acc 7700 0.12\n",
      "step, train acc 7800 0.1\n",
      "step, train acc 7900 0.16\n",
      "step, train acc 8000 0.12\n",
      "step, train acc 8100 0.06\n",
      "step, train acc 8200 0.12\n",
      "step, train acc 8300 0.14\n",
      "step, train acc 8400 0.06\n",
      "step, train acc 8500 0.1\n",
      "step, train acc 8600 0.1\n",
      "step, train acc 8700 0.1\n",
      "step, train acc 8800 0.12\n",
      "step, train acc 8900 0.08\n",
      "step, train acc 9000 0.06\n",
      "step, train acc 9100 0.18\n",
      "step, train acc 9200 0.06\n",
      "step, train acc 9300 0.12\n",
      "step, train acc 9400 0.12\n",
      "step, train acc 9500 0.08\n",
      "step, train acc 9600 0.18\n",
      "step, train acc 9700 0.08\n",
      "step, train acc 9800 0.12\n",
      "step, train acc 9900 0.12\n",
      "step, train acc 10000 0.16\n",
      "step, train acc 10100 0.16\n",
      "step, train acc 10200 0.14\n",
      "step, train acc 10300 0.12\n",
      "step, train acc 10400 0.12\n",
      "step, train acc 10500 0.14\n",
      "step, train acc 10600 0.12\n",
      "step, train acc 10700 0.06\n",
      "step, train acc 10800 0.12\n",
      "step, train acc 10900 0.1\n",
      "step, train acc 11000 0.2\n",
      "step, train acc 11100 0.16\n",
      "step, train acc 11200 0.2\n",
      "step, train acc 11300 0.12\n",
      "step, train acc 11400 0.1\n",
      "step, train acc 11500 0.12\n",
      "step, train acc 11600 0.2\n",
      "step, train acc 11700 0.14\n",
      "step, train acc 11800 0.14\n",
      "step, train acc 11900 0.2\n",
      "step, train acc 12000 0.18\n",
      "step, train acc 12100 0.18\n",
      "step, train acc 12200 0.22\n",
      "step, train acc 12300 0.22\n",
      "step, train acc 12400 0.2\n",
      "step, train acc 12500 0.16\n",
      "step, train acc 12600 0.08\n",
      "step, train acc 12700 0.18\n",
      "step, train acc 12800 0.14\n",
      "step, train acc 12900 0.08\n",
      "step, train acc 13000 0.08\n",
      "step, train acc 13100 0.08\n",
      "step, train acc 13200 0.1\n",
      "step, train acc 13300 0.1\n",
      "step, train acc 13400 0.04\n",
      "step, train acc 13500 0.28\n",
      "step, train acc 13600 0.24\n",
      "step, train acc 13700 0.14\n",
      "step, train acc 13800 0.1\n",
      "step, train acc 13900 0.08\n",
      "step, train acc 14000 0.22\n",
      "step, train acc 14100 0.14\n",
      "step, train acc 14200 0.2\n",
      "step, train acc 14300 0.2\n",
      "step, train acc 14400 0.18\n",
      "step, train acc 14500 0.18\n",
      "step, train acc 14600 0.18\n",
      "step, train acc 14700 0.16\n",
      "step, train acc 14800 0.18\n",
      "step, train acc 14900 0.16\n",
      "step, train acc 15000 0.14\n",
      "step, train acc 15100 0.18\n",
      "step, train acc 15200 0.16\n",
      "step, train acc 15300 0.26\n",
      "step, train acc 15400 0.24\n",
      "step, train acc 15500 0.28\n",
      "step, train acc 15600 0.22\n",
      "step, train acc 15700 0.18\n",
      "step, train acc 15800 0.14\n",
      "step, train acc 15900 0.2\n",
      "step, train acc 16000 0.14\n",
      "step, train acc 16100 0.1\n",
      "step, train acc 16200 0.26\n",
      "step, train acc 16300 0.14\n",
      "step, train acc 16400 0.14\n",
      "step, train acc 16500 0.18\n",
      "step, train acc 16600 0.16\n",
      "step, train acc 16700 0.06\n",
      "step, train acc 16800 0.2\n",
      "step, train acc 16900 0.16\n",
      "step, train acc 17000 0.22\n",
      "step, train acc 17100 0.16\n",
      "step, train acc 17200 0.26\n",
      "step, train acc 17300 0.2\n",
      "step, train acc 17400 0.26\n",
      "step, train acc 17500 0.16\n",
      "step, train acc 17600 0.16\n",
      "step, train acc 17700 0.14\n",
      "step, train acc 17800 0.14\n",
      "step, train acc 17900 0.18\n",
      "step, train acc 18000 0.3\n",
      "step, train acc 18100 0.12\n",
      "step, train acc 18200 0.14\n",
      "step, train acc 18300 0.2\n",
      "step, train acc 18400 0.22\n",
      "step, train acc 18500 0.2\n",
      "step, train acc 18600 0.2\n",
      "step, train acc 18700 0.2\n",
      "step, train acc 18800 0.22\n",
      "step, train acc 18900 0.14\n",
      "step, train acc 19000 0.14\n",
      "step, train acc 19100 0.2\n",
      "step, train acc 19200 0.28\n",
      "step, train acc 19300 0.26\n",
      "step, train acc 19400 0.24\n",
      "step, train acc 19500 0.2\n",
      "step, train acc 19600 0.14\n",
      "step, train acc 19700 0.18\n",
      "step, train acc 19800 0.08\n",
      "step, train acc 19900 0.2\n"
     ]
    }
   ],
   "source": [
    "tf.global_variables_initializer().run()\n",
    "for i in range(20000):\n",
    "    batch =  mnist.train.next_batch(50)\n",
    "    if i%100 == 0:\n",
    "        train_acc = acc.eval(feed_dict={x:batch[0], y_:batch[1], keep_prob:1.0})\n",
    "        print(\"step, train acc\", i, train_acc)\n",
    "    \n",
    "    train_step.run(feed_dict={x:batch[0], y_:batch[1], keep_prob:0.5})"
   ]
  },
  {
   "cell_type": "code",
   "execution_count": 16,
   "metadata": {},
   "outputs": [
    {
     "data": {
      "text/plain": [
       "0.2073"
      ]
     },
     "execution_count": 16,
     "metadata": {},
     "output_type": "execute_result"
    }
   ],
   "source": [
    "acc.eval(feed_dict={x:mnist.test.images, y_:mnist.test.labels, keep_prob:1.0})"
   ]
  },
  {
   "cell_type": "code",
   "execution_count": null,
   "metadata": {
    "collapsed": true
   },
   "outputs": [],
   "source": []
  }
 ],
 "metadata": {
  "kernelspec": {
   "display_name": "Python 3",
   "language": "python",
   "name": "python3"
  },
  "language_info": {
   "codemirror_mode": {
    "name": "ipython",
    "version": 3
   },
   "file_extension": ".py",
   "mimetype": "text/x-python",
   "name": "python",
   "nbconvert_exporter": "python",
   "pygments_lexer": "ipython3",
   "version": "3.5.2"
  }
 },
 "nbformat": 4,
 "nbformat_minor": 2
}
