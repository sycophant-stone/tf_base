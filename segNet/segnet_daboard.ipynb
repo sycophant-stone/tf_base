{
 "cells": [
  {
   "cell_type": "code",
   "execution_count": 1,
   "metadata": {},
   "outputs": [
    {
     "ename": "IndentationError",
     "evalue": "unindent does not match any outer indentation level (<tokenize>, line 42)",
     "output_type": "error",
     "traceback": [
      "\u001b[0;36m  File \u001b[0;32m\"<tokenize>\"\u001b[0;36m, line \u001b[0;32m42\u001b[0m\n\u001b[0;31m    with tf.Graph()\u001b[0m\n\u001b[0m    ^\u001b[0m\n\u001b[0;31mIndentationError\u001b[0m\u001b[0;31m:\u001b[0m unindent does not match any outer indentation level\n"
     ]
    }
   ],
   "source": [
    "'''\n",
    "   This program is for SegNet.\n",
    "'''\n",
    "\n",
    "import tensorflow as tf\n",
    "from tensorflow.python.framework import ops\n",
    "from tensorflow.python.framework import dtypes\n",
    "\n",
    "import os, sys\n",
    "import numpy as np\n",
    "import math\n",
    "from datetime import datetime\n",
    "import time\n",
    "from PIL import Image\n",
    "from math import ceil\n",
    "from tensorflow.python.ops import gen_nn_ops\n",
    "# modules\n",
    "#from Utils import _variable_with_weight_decay, _variable_on_cpu, _add_loss_summaries, _activation_summary, print_hist_summery, get_hist, per_class_acc, writeImage\n",
    "#from Inputs import *\n",
    "\n",
    "'''------------------------------------------------------------------'''\n",
    "##input\n",
    "\n",
    "def get_filename_list(filename):\n",
    "\t# 拿到数据集\n",
    "\tfd =open(filename)\n",
    "\tfor line in fd:\n",
    "\t\tline=line.strip().split(\" \")\n",
    "\t\timage_path=line[0]\n",
    "\t\tlabel_path=line[1]\n",
    "\t\n",
    "\treturn image_path,label_path\n",
    "\n",
    "\n",
    "\n",
    "'''------------------------------------------------------------------'''\n",
    "\n",
    "def training(trainfilepath,valfilepath,batch_size,image_width,image_height,image_ch):\n",
    "\ttrain_image_filenames,train_label_filenames=get_filename_list(trainfilepath)\n",
    "\tval_image_filenames,val_label_filenames=get_filename_list(valfilepath)\n",
    "\t\n",
    "    with tf.Graph().as_default():\n",
    "        # train_data_node和train_label_node\n",
    "        #    这两者作为训练集的data和label.\n",
    "        #phase_train\n",
    "        # phase_train作为conv*的输入.\n",
    "        train_data_node=tf.placeholder(tf.float32,shape=[batch_size,image_height,image_width,image_ch])\n",
    "        train_label_node=tf.placeholder(tf.float32,shape=[batch_size,image_height,image_width,1]) # 它是1个通道.\n",
    "\n",
    "\n",
    "\n",
    "\n",
    "\n"
   ]
  },
  {
   "cell_type": "code",
   "execution_count": null,
   "metadata": {},
   "outputs": [],
   "source": []
  }
 ],
 "metadata": {
  "kernelspec": {
   "display_name": "Python 3",
   "language": "python",
   "name": "python3"
  },
  "language_info": {
   "codemirror_mode": {
    "name": "ipython",
    "version": 3
   },
   "file_extension": ".py",
   "mimetype": "text/x-python",
   "name": "python",
   "nbconvert_exporter": "python",
   "pygments_lexer": "ipython3",
   "version": "3.6.3"
  }
 },
 "nbformat": 4,
 "nbformat_minor": 2
}
